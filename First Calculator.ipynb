{
 "cells": [
  {
   "cell_type": "markdown",
   "id": "6c743f9b-d4cd-43ac-90fc-ee493b9c3660",
   "metadata": {},
   "source": [
    "Basic Calculator"
   ]
  },
  {
   "cell_type": "code",
   "execution_count": null,
   "id": "6586b293-a2f0-44b2-ab77-bc5e11f4fe47",
   "metadata": {},
   "outputs": [
    {
     "name": "stdin",
     "output_type": "stream",
     "text": [
      "Enter a value:  10\n",
      "Enter a value:  34\n",
      "Input the kind of operation you want to perform(sum,product,difference or division):  product\n"
     ]
    },
    {
     "name": "stdout",
     "output_type": "stream",
     "text": [
      "340\n"
     ]
    }
   ],
   "source": [
    "while True:\n",
    "    a=int(input(\"Enter a value: \"))\n",
    "    b=int(input(\"Enter a value: \"))\n",
    "    operation=input(\"Input the kind of operation you want to perform(sum,product,difference or division): \")\n",
    "    if operation== \"sum\":\n",
    "        print(a+b)\n",
    "    elif operation== \"product\":\n",
    "        print(a*b)\n",
    "    elif operation== \"difference\":\n",
    "        print(a-b)\n",
    "    elif operation== \"division\":\n",
    "        if b!=0:\n",
    "               print(a/b)\n",
    "        else:\n",
    "            print(\"Math Error\")\n",
    "    prompt=input(\"Enter in to continue or out to exit: \")\n",
    "    if prompt== \"con\":\n",
    "        continue\n",
    "    elif prompt== \"out\":\n",
    "        break\n",
    "        \n",
    "        "
   ]
  },
  {
   "cell_type": "code",
   "execution_count": null,
   "id": "2439b56e-ac99-4335-abf8-f3de89d7cc3b",
   "metadata": {},
   "outputs": [],
   "source": []
  },
  {
   "cell_type": "code",
   "execution_count": null,
   "id": "c75d367e-f394-42dd-9803-c12fab0638df",
   "metadata": {},
   "outputs": [],
   "source": []
  }
 ],
 "metadata": {
  "kernelspec": {
   "display_name": "Python 3 (ipykernel)",
   "language": "python",
   "name": "python3"
  },
  "language_info": {
   "codemirror_mode": {
    "name": "ipython",
    "version": 3
   },
   "file_extension": ".py",
   "mimetype": "text/x-python",
   "name": "python",
   "nbconvert_exporter": "python",
   "pygments_lexer": "ipython3",
   "version": "3.11.7"
  }
 },
 "nbformat": 4,
 "nbformat_minor": 5
}
